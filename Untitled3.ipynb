{
  "nbformat": 4,
  "nbformat_minor": 0,
  "metadata": {
    "colab": {
      "provenance": []
    },
    "kernelspec": {
      "name": "python3",
      "display_name": "Python 3"
    },
    "language_info": {
      "name": "python"
    }
  },
  "cells": [
    {
      "cell_type": "code",
      "execution_count": null,
      "metadata": {
        "id": "2iXMIpj-ZLiW"
      },
      "outputs": [],
      "source": []
    },
    {
      "cell_type": "markdown",
      "source": [],
      "metadata": {
        "id": "KypnvGb0bI3r"
      }
    },
    {
      "cell_type": "markdown",
      "source": [],
      "metadata": {
        "id": "I5ADPtNof6CT"
      }
    },
    {
      "cell_type": "markdown",
      "source": [
        "Question 1. Explain the key features of Python that make it a popular choice for programming.\n",
        "Answer: Python is popular for its simplicity, versatility, and ease of use. Here are the key features that make it a top choice for developers:\n",
        "\n",
        "Readable and Simple Syntax: Python syntax is clean and easy to understand, making it beginner-friendly and ideal for rapid development.\n",
        "\n",
        "Cross-Platform Compatibility: Python can run on multiple operating systems, Windows, macOS, Linux, making it highly portable\n",
        "\n",
        "Extensive Libraries and Frameworks: A vast collection of libraries. E.g., NumPy, Django, TensorFlow, enables quick development for web, data science, machine learning, and more.\n",
        "\n",
        "Dynamic Typing: Variables do not need explicit type declarations, enhancing flexibility and reducing boilerplate code.\n",
        "\n",
        "Interpreted Language: Python code is executed line by line, allowing for quick testing and debugging.\n",
        "\n",
        "Support for Multiple Paradigms: Python supports object-oriented, functional, and procedural programming, offering flexibility in how to structure code.\n",
        "\n",
        "Large Community and Resources: A vast, active community provides extensive documentation, tutorials, and open-source contributions.\n",
        "\n",
        "Scalability: Python works for both small projects and large-scale applications, with tools to optimize performance when needed.\n",
        "\n",
        "Integration with Other Languages: Python can easily interface with other languages like C/C++, Java, and web technologies, making it adaptable.\n",
        "\n",
        "\n",
        "Rapid Prototyping: Python allows quick development of applications and prototypes, making it ideal for startups and fast-paced environments.\n",
        "\n",
        "These features contribute to Python widespread use in fields like web development, data science, AI, automation, and more."
      ],
      "metadata": {
        "id": "_rXMod-9fpHS"
      }
    },
    {
      "cell_type": "markdown",
      "source": [],
      "metadata": {
        "id": "p_6BwabcgJFt"
      }
    },
    {
      "cell_type": "markdown",
      "source": [
        "Question 2. Describe the role of predefined keywords in Python and provide examples of how they are used in a program.\n",
        "Answer: Python keywords are special reserved words that have specific meanings and purposes and cannot be used for anything but those specific purposes. These keywords are always available—you will never have to import them into your code.\n",
        "\n",
        "Example print is only used to print a statement . it cannot be useed as identifier"
      ],
      "metadata": {
        "id": "Af07Kv6tgND2"
      }
    },
    {
      "cell_type": "code",
      "source": [
        "print (\"Hello Sumera\")"
      ],
      "metadata": {
        "colab": {
          "base_uri": "https://localhost:8080/"
        },
        "id": "TOP_l2oWgOpO",
        "outputId": "b0ab591e-b282-4f67-aded-83d114ad8b6c"
      },
      "execution_count": 1,
      "outputs": [
        {
          "output_type": "stream",
          "name": "stdout",
          "text": [
            "Hello Sumera\n"
          ]
        }
      ]
    },
    {
      "cell_type": "markdown",
      "source": [
        "Question 3. Compare and contrast mutable and immutable objects in Python with examples.\n",
        "Answer. In Python, mutable and immutable objects differ in whether their state can be modified after creation.\n",
        "\n",
        "Mutable Objects Definition: Can be changed after creation. Examples: Lists, Dictionaries, Sets. Modification: You can modify, add, or remove elements in-place. Effect on References: Changes affect all references to the object. Example (List - Mutable):"
      ],
      "metadata": {
        "id": "V_I5bXrEgiRh"
      }
    },
    {
      "cell_type": "code",
      "source": [
        "my_list= [1,2,3]\n",
        "my_list [0]=123\n",
        "print(my_list)\n"
      ],
      "metadata": {
        "colab": {
          "base_uri": "https://localhost:8080/"
        },
        "id": "z8ZVpCdqgn_c",
        "outputId": "0397136f-6216-41be-fc12-f5159a007088"
      },
      "execution_count": 4,
      "outputs": [
        {
          "output_type": "stream",
          "name": "stdout",
          "text": [
            "[123, 2, 3]\n"
          ]
        }
      ]
    },
    {
      "cell_type": "markdown",
      "source": [
        "Immutable Objects Definition: Cannot be changed after creation. Examples: Strings, Tuples, Integers. Modification: Any change creates a new object. Effect on References: Original object remains unchanged, and a new object is created if modified. Example (String - Immutable):\n"
      ],
      "metadata": {
        "id": "Zta89n-VjYpD"
      }
    },
    {
      "cell_type": "code",
      "source": [
        "my_string=\"Hello\"\n",
        "my_string1=\"K\"+my_string[2]\n",
        "print(my_string1)\n",
        "\n"
      ],
      "metadata": {
        "colab": {
          "base_uri": "https://localhost:8080/"
        },
        "id": "QHDwvoWXjcAz",
        "outputId": "1d3e92ea-eed7-4e09-fd48-b5f892b19544"
      },
      "execution_count": 5,
      "outputs": [
        {
          "output_type": "stream",
          "name": "stdout",
          "text": [
            "Kl\n"
          ]
        }
      ]
    },
    {
      "cell_type": "markdown",
      "source": [
        "Question 4. Discuss the different types of operators in Python and provide examples of how they are used.\n",
        "Types of Python Operators\n",
        "Python language supports various types of operators, which are: 1 Arithmetic Operators 2 Comparison (Relational) Operators 3 Assignment Operators 4 Logical Operators 5 Bitwise Operators 6 Membership Operators 7 Identity Operators"
      ],
      "metadata": {
        "id": "ahp0ZjORkgb7"
      }
    },
    {
      "cell_type": "code",
      "source": [
        "a=10\n",
        "b=10\n",
        "print(\"add -\",a+b)\n",
        "print(\"sub -\",a-b)\n",
        "print(\"div -\",a*b)"
      ],
      "metadata": {
        "colab": {
          "base_uri": "https://localhost:8080/"
        },
        "id": "azeyFj6nkozY",
        "outputId": "2c3eb532-868d-4fac-b4ae-5f2d49e88f10"
      },
      "execution_count": 6,
      "outputs": [
        {
          "output_type": "stream",
          "name": "stdout",
          "text": [
            "add - 20\n",
            "sub - 0\n",
            "div - 100\n"
          ]
        }
      ]
    },
    {
      "cell_type": "code",
      "source": [
        "a=2\n",
        "b=5\n",
        "print('equalto-',a==b)\n",
        "print('notequalto-',a!=b)"
      ],
      "metadata": {
        "colab": {
          "base_uri": "https://localhost:8080/"
        },
        "id": "MNGKZhOllaU9",
        "outputId": "6963fd50-673d-44af-c144-caa4ddd3d0cf"
      },
      "execution_count": 7,
      "outputs": [
        {
          "output_type": "stream",
          "name": "stdout",
          "text": [
            "equalto- False\n",
            "notequalto- True\n"
          ]
        }
      ]
    },
    {
      "cell_type": "code",
      "source": [
        "a = 10\n",
        "# Addition Assignment\n",
        "a += 5\n",
        "print (\"a += 5 : \", a)\n",
        "# Subtraction Assignment\n",
        "a -= 5\n",
        "print (\"a -= 5 : \", a)\n",
        "# Multiplication Assignment\n",
        "a *= 5\n",
        "print (\"a *= 5 : \", a)\n",
        "# Division Assignment\n",
        "a /= 5\n",
        "print (\"a /= 5 : \",a)\n",
        "# Remainder Assignment\n",
        "a %= 3\n",
        "print (\"a %= 3 : \", a)\n",
        "# Exponent Assignment\n",
        "a **= 2\n",
        "print (\"a **= 2 : \", a)\n",
        "# Floor Division Assignment\n",
        "a //= 3\n",
        "print (\"a //= 3 : \", a)\n",
        ""
      ],
      "metadata": {
        "colab": {
          "base_uri": "https://localhost:8080/"
        },
        "id": "cb0c8AyClz1t",
        "outputId": "6aeb2b57-7e9b-4523-df92-4d629be2c25d"
      },
      "execution_count": 8,
      "outputs": [
        {
          "output_type": "stream",
          "name": "stdout",
          "text": [
            "a += 5 :  15\n",
            "a -= 5 :  10\n",
            "a *= 5 :  50\n",
            "a /= 5 :  10.0\n",
            "a %= 3 :  1.0\n",
            "a **= 2 :  1.0\n",
            "a //= 3 :  0.0\n"
          ]
        }
      ]
    },
    {
      "cell_type": "code",
      "source": [
        "#Python Bitwise Operators\n",
        "a = 60 # 60 = 0011 1100\n",
        "b = 13 # 13 = 0000 1101\n",
        "# Binary AND\n",
        "c = a & b # 12 = 0000 1100\n",
        "print (\"a & b : \", c)\n",
        "# Binary OR\n",
        "c = a | b # 61 = 0011 1101\n",
        "print (\"a | b : \", c)\n",
        "# Binary XOR\n",
        "c = a ^ b # 49 = 0011 0001\n",
        "print (\"a ^ b : \", c)\n",
        "# Binary Ones Complement\n",
        "c = ~a; # -61 = 1100 0011\n",
        "print (\"~a : \", c)\n",
        "# Binary Left Shift\n",
        "c = a << 2; # 240 = 1111 0000\n",
        "print (\"a << 2 : \", c)\n",
        "# Binary Right Shift\n",
        "c = a >> 2; # 15 = 0000 1111\n",
        "print (\"a >> 2 : \", c)"
      ],
      "metadata": {
        "colab": {
          "base_uri": "https://localhost:8080/"
        },
        "id": "bAXt8OBimMVY",
        "outputId": "bad7350d-b6fe-4733-8231-cf48554dece0"
      },
      "execution_count": 9,
      "outputs": [
        {
          "output_type": "stream",
          "name": "stdout",
          "text": [
            "a & b :  12\n",
            "a | b :  61\n",
            "a ^ b :  49\n",
            "~a :  -61\n",
            "a << 2 :  240\n",
            "a >> 2 :  15\n"
          ]
        }
      ]
    },
    {
      "cell_type": "code",
      "source": [
        "x = 10\n",
        "y = 5\n",
        "if x is y:\n",
        "    print(\"x and y are the same object\")\n",
        "else:\n",
        "    print(\"x and y are not the same object\")"
      ],
      "metadata": {
        "colab": {
          "base_uri": "https://localhost:8080/"
        },
        "id": "uDVpyYgameGc",
        "outputId": "d4ce8dd0-02d9-4006-e401-b8269737e5bc"
      },
      "execution_count": 10,
      "outputs": [
        {
          "output_type": "stream",
          "name": "stdout",
          "text": [
            "x and y are not the same object\n"
          ]
        }
      ]
    },
    {
      "cell_type": "markdown",
      "source": [
        "Question 5. Explain the concept of type casting in Python with examples.\n",
        "Answer. Type casting in Python refers to the conversion of one data type into another. Python provides two types of type casting:\n",
        "\n",
        "Implicit Type Casting (Type Conversion): Automatic conversion done by Python. Explicit Type Casting: Conversion done manually by the programmer using functions.\n",
        "\n",
        "Implicit Type Casting (Automatic Conversion) Python automatically converts a lower data type to a higher data type when necessary. This is called implicit type casting or automatic type conversion.\n",
        "Example: When an operation involves an integer and a float, Python automatically converts the integer to a float to ensure no data loss.\n"
      ],
      "metadata": {
        "id": "c6yvAuYTmnEr"
      }
    },
    {
      "cell_type": "code",
      "source": [
        "a = 5        # Integer\n",
        "b = 2.0      # Float\n",
        "\n",
        "# Python implicitly converts the integer 'a' to a float before performing the addition\n",
        "result = a + b\n",
        "print(result)  # Output: 7.0 (float result)"
      ],
      "metadata": {
        "colab": {
          "base_uri": "https://localhost:8080/"
        },
        "id": "WcjB87cnmoVQ",
        "outputId": "756a6281-f471-482b-c3ef-f4aba3603ee2"
      },
      "execution_count": 11,
      "outputs": [
        {
          "output_type": "stream",
          "name": "stdout",
          "text": [
            "7.0\n"
          ]
        }
      ]
    },
    {
      "cell_type": "markdown",
      "source": [
        "In this example, the integer 5 is automatically converted to a float to match the type of 2.0, resulting in a float output 7.0.\n",
        "\n",
        "Explicit Type Casting (Manual Conversion) Explicit type casting is when the programmer explicitly converts one data type to another using Python's built-in functions.\n",
        "Common Functions for Explicit Type Casting: int(): Converts a number or string to an integer. float(): Converts a number or string to a float. str(): Converts a number or other data type to a string. list(): Converts a tuple or other iterable to a list. tuple(): Converts a list or other iterable to a tuple. set(): Converts an iterable to a set. Example of Type Casting:"
      ],
      "metadata": {
        "id": "7KJCa3hfmtGc"
      }
    },
    {
      "cell_type": "code",
      "source": [
        "x = 5.7\n",
        "y = int(x)  # Explicit conversion from float to integer\n",
        "print(y)    # Output: 5 (decimal part is truncated)"
      ],
      "metadata": {
        "colab": {
          "base_uri": "https://localhost:8080/"
        },
        "id": "_jfy5CD1mxux",
        "outputId": "3dbe8b50-88a8-4073-c698-237d4aa83f8f"
      },
      "execution_count": 12,
      "outputs": [
        {
          "output_type": "stream",
          "name": "stdout",
          "text": [
            "5\n"
          ]
        }
      ]
    },
    {
      "cell_type": "code",
      "source": [
        "##Converting a String to an Integer:\n",
        "s = \"123\"\n",
        "num = int(s)  # Converts string to integer\n",
        "print(num)    # Output: 123"
      ],
      "metadata": {
        "colab": {
          "base_uri": "https://localhost:8080/"
        },
        "id": "_Fb4UVhvm5YH",
        "outputId": "69463203-8a0c-4320-bc96-3bb8b69ebe18"
      },
      "execution_count": 13,
      "outputs": [
        {
          "output_type": "stream",
          "name": "stdout",
          "text": [
            "123\n"
          ]
        }
      ]
    },
    {
      "cell_type": "markdown",
      "source": [
        "Question 6. How do conditional statements work in Python? Illustrate with examples."
      ],
      "metadata": {
        "id": "vVyZEjx0m6y7"
      }
    },
    {
      "cell_type": "code",
      "source": [
        "Points = 85\n",
        "\n",
        "if Points >= 90:\n",
        "    grade = \"A\"\n",
        "elif Points >= 80:\n",
        "    grade = \"B\"\n",
        "elif Points >= 70:\n",
        "    grade = \"C\"\n",
        "elif Points >= 60:\n",
        "    grade = \"D\"\n",
        "else:\n",
        "    grade = \"F\"\n",
        "\n",
        "print(\"Your grade is:\", grade)"
      ],
      "metadata": {
        "colab": {
          "base_uri": "https://localhost:8080/"
        },
        "id": "M0LfhplSm-1V",
        "outputId": "01689592-7ec9-4f9c-922d-a6fddb47473f"
      },
      "execution_count": 14,
      "outputs": [
        {
          "output_type": "stream",
          "name": "stdout",
          "text": [
            "Your grade is: B\n"
          ]
        }
      ]
    },
    {
      "cell_type": "markdown",
      "source": [
        "Question 7. Describe the different types of loops in Python and their use cases with examples.\n",
        "Answer. A loop is a control flow statement in Python that allows you to execute a piece of code repeatedly until a specific condition is met. Loops are necessary for operations that require repetitive execution, such as iterating through a Python list of items or doing calculations many times."
      ],
      "metadata": {
        "id": "TEW1wVsVnRfh"
      }
    },
    {
      "cell_type": "code",
      "source": [
        "count = 0\n",
        "while (count < 10):\n",
        " print ('The count is:', count)\n",
        " count = count + 1\n"
      ],
      "metadata": {
        "colab": {
          "base_uri": "https://localhost:8080/"
        },
        "id": "wv27lV53nSuy",
        "outputId": "4631347e-d566-4290-b4a1-79b678aab4c9"
      },
      "execution_count": 15,
      "outputs": [
        {
          "output_type": "stream",
          "name": "stdout",
          "text": [
            "The count is: 0\n",
            "The count is: 1\n",
            "The count is: 2\n",
            "The count is: 3\n",
            "The count is: 4\n",
            "The count is: 5\n",
            "The count is: 6\n",
            "The count is: 7\n",
            "The count is: 8\n",
            "The count is: 9\n"
          ]
        }
      ]
    },
    {
      "cell_type": "code",
      "source": [
        "for letter in 'Python': # First Example\n",
        " print ('Current Letter :', letter)\n",
        "fruits = ['guava', 'apple', 'mango']\n",
        "for fruit in fruits: # Second Example\n",
        " print ('Current fruit :', fruit)"
      ],
      "metadata": {
        "colab": {
          "base_uri": "https://localhost:8080/"
        },
        "id": "zOEveZiknW5G",
        "outputId": "e05f5b5e-b31c-424f-f70b-557f16ade1f6"
      },
      "execution_count": 16,
      "outputs": [
        {
          "output_type": "stream",
          "name": "stdout",
          "text": [
            "Current Letter : P\n",
            "Current Letter : y\n",
            "Current Letter : t\n",
            "Current Letter : h\n",
            "Current Letter : o\n",
            "Current Letter : n\n",
            "Current fruit : guava\n",
            "Current fruit : apple\n",
            "Current fruit : mango\n"
          ]
        }
      ]
    },
    {
      "cell_type": "code",
      "source": [
        "i = 2\n",
        "while(i < 100):\n",
        " j = 2\n",
        " while(j <= (i/j)):\n",
        "   if not(i%j): break\n",
        "   j = j + 1\n",
        " if (j > i/j) : print (i, \" prime\")\n",
        " i = i + 1"
      ],
      "metadata": {
        "colab": {
          "base_uri": "https://localhost:8080/"
        },
        "id": "I_YYlhf9nasz",
        "outputId": "f75719d3-3392-441f-9214-61f35032e212"
      },
      "execution_count": 17,
      "outputs": [
        {
          "output_type": "stream",
          "name": "stdout",
          "text": [
            "2  prime\n",
            "3  prime\n",
            "5  prime\n",
            "7  prime\n",
            "11  prime\n",
            "13  prime\n",
            "17  prime\n",
            "19  prime\n",
            "23  prime\n",
            "29  prime\n",
            "31  prime\n",
            "37  prime\n",
            "41  prime\n",
            "43  prime\n",
            "47  prime\n",
            "53  prime\n",
            "59  prime\n",
            "61  prime\n",
            "67  prime\n",
            "71  prime\n",
            "73  prime\n",
            "79  prime\n",
            "83  prime\n",
            "89  prime\n",
            "97  prime\n"
          ]
        }
      ]
    }
  ]
}